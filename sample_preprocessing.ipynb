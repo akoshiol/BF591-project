{
 "cells": [
  {
   "cell_type": "code",
   "execution_count": 4,
   "id": "e3f614dc",
   "metadata": {},
   "outputs": [],
   "source": [
    "# Author: Adalee Koshiol\n",
    "# Class: BF591\n",
    "# Assignment: Final Project\n",
    "# Start Date: 4/12/22\n",
    "\n",
    "###########\n",
    "# file description: preprocessing of sample data to use in R\n",
    "###########"
   ]
  },
  {
   "cell_type": "code",
   "execution_count": 76,
   "id": "5ab2726f",
   "metadata": {},
   "outputs": [],
   "source": [
    "f = open('data/GSE64810_sample_info.txt', 'r')\n",
    "all_data = f.readlines()\n",
    "f.close()\n",
    "\n",
    "# want lines 32-33, 42-45, 86"
   ]
  },
  {
   "cell_type": "code",
   "execution_count": 53,
   "id": "e65990df",
   "metadata": {},
   "outputs": [
    {
     "name": "stdout",
     "output_type": "stream",
     "text": [
      "['sample_name', 'C_0002', 'C_0003', 'C_0004', 'C_0005', 'C_0006', 'C_0008', 'C_0009', 'C_0010', 'C_0011', 'C_0012', 'C_0013', 'C_0014', 'C_0015', 'C_0016', 'C_0017', 'C_0018', 'C_0019', 'C_0020', 'C_0021', 'C_0022', 'C_0023', 'C_0024', 'C_0025', 'C_0026', 'C_0029', 'C_0031', 'C_0032', 'C_0033', 'C_0035', 'C_0036', 'C_0037', 'C_0038', 'C_0039', 'C_0050', 'C_0053', 'C_0060', 'C_0061', 'C_0062', 'C_0065', 'C_0069', 'C_0070', 'C_0071', 'C_0075', 'C_0076', 'C_0077', 'C_0081', 'C_0082', 'C_0083', 'C_0087', 'H_0001', 'H_0002', 'H_0003', 'H_0005', 'H_0006', 'H_0007', 'H_0008', 'H_0009', 'H_0010', 'H_0012', 'H_0013', 'H_0539', 'H_0657', 'H_0658', 'H_0681', 'H_0695', 'H_0700', 'H_0726', 'H_0740', 'H_0750']\n"
     ]
    }
   ],
   "source": [
    "# get sample names\n",
    "sample = ['sample_name']\n",
    "\n",
    "sample_info = all_data[32].split('\\t')\n",
    "sample_info = sample_info[1:]\n",
    "for i in range(len(sample_info)):\n",
    "    sample_info[i] = sample_info[i].replace('\\n', '')\n",
    "    sample_info[i] = sample_info[i].replace('!', '')\n",
    "    sample_info[i] = sample_info[i].replace('\"', '')\n",
    "    sample.append(sample_info[i])\n",
    "print(sample)"
   ]
  },
  {
   "cell_type": "code",
   "execution_count": 55,
   "id": "2c5b9662",
   "metadata": {},
   "outputs": [
    {
     "name": "stdout",
     "output_type": "stream",
     "text": [
      "['geo_accession', 'GSM1580869', 'GSM1580870', 'GSM1580871', 'GSM1580872', 'GSM1580873', 'GSM1580874', 'GSM1580875', 'GSM1580876', 'GSM1580877', 'GSM1580878', 'GSM1580879', 'GSM1580880', 'GSM1580881', 'GSM1580882', 'GSM1580883', 'GSM1580884', 'GSM1580885', 'GSM1580886', 'GSM1580887', 'GSM1580888', 'GSM1580889', 'GSM1580890', 'GSM1580891', 'GSM1580892', 'GSM1580893', 'GSM1580894', 'GSM1580895', 'GSM1580896', 'GSM1580897', 'GSM1580898', 'GSM1580899', 'GSM1580900', 'GSM1580901', 'GSM1580902', 'GSM1580903', 'GSM1580904', 'GSM1580905', 'GSM1580906', 'GSM1580907', 'GSM1580908', 'GSM1580909', 'GSM1580910', 'GSM1580911', 'GSM1580912', 'GSM1580913', 'GSM1580914', 'GSM1580915', 'GSM1580916', 'GSM1580917', 'GSM1580918', 'GSM1580919', 'GSM1580920', 'GSM1580921', 'GSM1580922', 'GSM1580923', 'GSM1580924', 'GSM1580925', 'GSM1580926', 'GSM1580927', 'GSM1580928', 'GSM1580929', 'GSM1580930', 'GSM1580931', 'GSM1580932', 'GSM1580933', 'GSM1580934', 'GSM1580935', 'GSM1580936', 'GSM1580937']\n"
     ]
    }
   ],
   "source": [
    "# get geo accession\n",
    "geo_acc = ['geo_accession']\n",
    "\n",
    "geo_acc_info = all_data[33].split('\\t')\n",
    "geo_acc_info = geo_acc_info[1:]\n",
    "for i in range(len(geo_acc_info)):\n",
    "    geo_acc_info[i] = geo_acc_info[i].replace('\\n', '')\n",
    "    geo_acc_info[i] = geo_acc_info[i].replace('!', '')\n",
    "    geo_acc_info[i] = geo_acc_info[i].replace('\"', '')\n",
    "    geo_acc.append(geo_acc_info[i])\n",
    "print(geo_acc)"
   ]
  },
  {
   "cell_type": "code",
   "execution_count": 64,
   "id": "48c74d60",
   "metadata": {},
   "outputs": [
    {
     "name": "stdout",
     "output_type": "stream",
     "text": [
      "['diagnosis', 'Neurologically normal', 'Neurologically normal', 'Neurologically normal', 'Neurologically normal', 'Neurologically normal', 'Neurologically normal', 'Neurologically normal', 'Neurologically normal', 'Neurologically normal', 'Neurologically normal', 'Neurologically normal', 'Neurologically normal', 'Neurologically normal', 'Neurologically normal', 'Neurologically normal', 'Neurologically normal', 'Neurologically normal', 'Neurologically normal', 'Neurologically normal', 'Neurologically normal', 'Neurologically normal', 'Neurologically normal', 'Neurologically normal', 'Neurologically normal', 'Neurologically normal', 'Neurologically normal', 'Neurologically normal', 'Neurologically normal', 'Neurologically normal', 'Neurologically normal', 'Neurologically normal', 'Neurologically normal', 'Neurologically normal', 'Neurologically normal', 'Neurologically normal', 'Neurologically normal', 'Neurologically normal', 'Neurologically normal', 'Neurologically normal', 'Neurologically normal', 'Neurologically normal', 'Neurologically normal', 'Neurologically normal', 'Neurologically normal', 'Neurologically normal', 'Neurologically normal', 'Neurologically normal', 'Neurologically normal', 'Neurologically normal', \"Huntington's Disease\", \"Huntington's Disease\", \"Huntington's Disease\", \"Huntington's Disease\", \"Huntington's Disease\", \"Huntington's Disease\", \"Huntington's Disease\", \"Huntington's Disease\", \"Huntington's Disease\", \"Huntington's Disease\", \"Huntington's Disease\", \"Huntington's Disease\", \"Huntington's Disease\", \"Huntington's Disease\", \"Huntington's Disease\", \"Huntington's Disease\", \"Huntington's Disease\", \"Huntington's Disease\", \"Huntington's Disease\", \"Huntington's Disease\"]\n"
     ]
    }
   ],
   "source": [
    "# get diagnosis\n",
    "diagnosis = ['diagnosis']\n",
    "\n",
    "diagnosis_info = all_data[42].split('\\t')\n",
    "diagnosis_info = diagnosis_info[1:]\n",
    "for i in range(len(diagnosis_info)):\n",
    "    diagnosis_info[i] = diagnosis_info[i].replace('\\n', '')\n",
    "    diagnosis_info[i] = diagnosis_info[i].replace('!', '')\n",
    "    diagnosis_info[i] = diagnosis_info[i].replace('\"', '')\n",
    "    diagnosis_info[i] = diagnosis_info[i].replace('diagnosis: ', '')\n",
    "    diagnosis.append(diagnosis_info[i])\n",
    "print(diagnosis)"
   ]
  },
  {
   "cell_type": "code",
   "execution_count": 72,
   "id": "8b603859",
   "metadata": {},
   "outputs": [
    {
     "name": "stdout",
     "output_type": "stream",
     "text": [
      "['pmi', '2', '2', '2', '2', '5', '2', '3', '2', '2', '19', '15', '21', '10', '20', '21', '17', '19', '24', '26', '17', '18', '26', '25', '11', '13', '24', '24', '15', '21', '17', '28', '20', '15', '2', '2', '2', '3', '2', '2', '24', '19', '21', '23', '30', '21', '26', '18', '32', '19', '37.25', '5.75', '20.5', '19.15', 'NA', '8', '21.3', '3.73', '6.16', '12.75', '25.1', '14.5', '24.3', '11', '19.06', '16.15', '15.66', '14.75', '13.58', '16.16']\n"
     ]
    }
   ],
   "source": [
    "# get pmi\n",
    "pmi = ['pmi']\n",
    "\n",
    "pmi_info = all_data[43].split('\\t')\n",
    "pmi_info = pmi_info[1:]\n",
    "for i in range(len(pmi_info)):\n",
    "    pmi_info[i] = pmi_info[i].replace('\\n', '')\n",
    "    pmi_info[i] = pmi_info[i].replace('!', '')\n",
    "    pmi_info[i] = pmi_info[i].replace('\"', '')\n",
    "    pmi_info[i] = pmi_info[i].replace('pmi: ', '')\n",
    "    pmi.append(pmi_info[i])\n",
    "print(pmi)"
   ]
  },
  {
   "cell_type": "code",
   "execution_count": 83,
   "id": "267979a6",
   "metadata": {},
   "outputs": [
    {
     "name": "stdout",
     "output_type": "stream",
     "text": [
      "['age_of_death', '73', '91', '82', '97', '86', '91', '81', '79', '63', '66', '69', '79', '61', '58', '70', '66', '73', '60', '76', '61', '62', '69', '61', '88', '93', '53', '57', '43', '46', '40', '44', '57', '80', '74', '69', '76', '78', '87', '86', '54', '68', '106', '52', '46', '36', '55', '57', '66', '64', '55', '69', '71', '48', '40', '72', '43', '68', '59', '68', '57', '54', '61', '48', '69', '55', '50', '50', '75', '53']\n"
     ]
    }
   ],
   "source": [
    "# get age of death\n",
    "aod = ['age_of_death']\n",
    "\n",
    "aod_info = all_data[44].split('\\t')\n",
    "aod_info = aod_info[1:]\n",
    "for i in range(len(aod_info)):\n",
    "    aod_info[i] = aod_info[i].replace('\\n', '')\n",
    "    aod_info[i] = aod_info[i].replace('!', '')\n",
    "    aod_info[i] = aod_info[i].replace('\"', '')\n",
    "    aod_info[i] = aod_info[i].replace('age of death: ', '')\n",
    "    aod.append(aod_info[i])\n",
    "print(aod)"
   ]
  },
  {
   "cell_type": "code",
   "execution_count": 86,
   "id": "9787366b",
   "metadata": {},
   "outputs": [
    {
     "name": "stdout",
     "output_type": "stream",
     "text": [
      "['rin', '7.7', '7.9', '8.6', '9.1', '8.6', '8.7', '6', '8.4', '6.5', '7.1', '7.8', '8', '8.2', '8.4', '8.2', '8.5', '7.5', '7.9', '7.3', '7.8', '6.6', '8.7', '8.1', '7.1', '6.4', '7.3', '8.3', '7.5', '7.6', '7.5', '8.3', '7.7', '7.3', '8.5', '8.4', '7.5', '7.6', '8.7', '8.7', '8.3', '6.3', '7.6', '7.4', '8.2', '8.5', '7.6', '7.8', '8.4', '8.7', '7.1', '7.5', '7', '6.9', '6.2', '8.5', '7.4', '7.8', '8.3', '6', '6.1', '6.5', '8.1', '7.8', '7', '7.9', '8', '9.2', '6.4', '6']\n"
     ]
    }
   ],
   "source": [
    "# get rin\n",
    "rin = ['rin']\n",
    "\n",
    "rin_info = all_data[45].split('\\t')\n",
    "rin_info = rin_info[1:]\n",
    "for i in range(len(aod_info)):\n",
    "    rin_info[i] = rin_info[i].replace('\\n', '')\n",
    "    rin_info[i] = rin_info[i].replace('!', '')\n",
    "    rin_info[i] = rin_info[i].replace('\"', '')\n",
    "    rin_info[i] = rin_info[i].replace('rin: ', '')\n",
    "    rin.append(rin_info[i])\n",
    "print(rin)"
   ]
  },
  {
   "cell_type": "code",
   "execution_count": 75,
   "id": "b0cfa8fb",
   "metadata": {},
   "outputs": [
    {
     "name": "stdout",
     "output_type": "stream",
     "text": [
      "['id_ref', 'GSM1580869', 'GSM1580870', 'GSM1580871', 'GSM1580872', 'GSM1580873', 'GSM1580874', 'GSM1580875', 'GSM1580876', 'GSM1580877', 'GSM1580878', 'GSM1580879', 'GSM1580880', 'GSM1580881', 'GSM1580882', 'GSM1580883', 'GSM1580884', 'GSM1580885', 'GSM1580886', 'GSM1580887', 'GSM1580888', 'GSM1580889', 'GSM1580890', 'GSM1580891', 'GSM1580892', 'GSM1580893', 'GSM1580894', 'GSM1580895', 'GSM1580896', 'GSM1580897', 'GSM1580898', 'GSM1580899', 'GSM1580900', 'GSM1580901', 'GSM1580902', 'GSM1580903', 'GSM1580904', 'GSM1580905', 'GSM1580906', 'GSM1580907', 'GSM1580908', 'GSM1580909', 'GSM1580910', 'GSM1580911', 'GSM1580912', 'GSM1580913', 'GSM1580914', 'GSM1580915', 'GSM1580916', 'GSM1580917', 'GSM1580918', 'GSM1580919', 'GSM1580920', 'GSM1580921', 'GSM1580922', 'GSM1580923', 'GSM1580924', 'GSM1580925', 'GSM1580926', 'GSM1580927', 'GSM1580928', 'GSM1580929', 'GSM1580930', 'GSM1580931', 'GSM1580932', 'GSM1580933', 'GSM1580934', 'GSM1580935', 'GSM1580936', 'GSM1580937']\n"
     ]
    }
   ],
   "source": [
    "# get id ref\n",
    "id_ref = ['id_ref']\n",
    "\n",
    "id_ref_info = all_data[86].split('\\t')\n",
    "id_ref_info = id_ref_info[1:]\n",
    "for i in range(len(aod_info)):\n",
    "    id_ref_info[i] = id_ref_info[i].replace('\\n', '')\n",
    "    id_ref_info[i] = id_ref_info[i].replace('!', '')\n",
    "    id_ref_info[i] = id_ref_info[i].replace('\"', '')\n",
    "    id_ref.append(id_ref_info[i])\n",
    "print(id_ref)"
   ]
  },
  {
   "cell_type": "code",
   "execution_count": 87,
   "id": "a90a58b7",
   "metadata": {},
   "outputs": [
    {
     "name": "stdout",
     "output_type": "stream",
     "text": [
      "sample_name\tC_0002\tC_0003\tC_0004\tC_0005\tC_0006\tC_0008\tC_0009\tC_0010\tC_0011\tC_0012\tC_0013\tC_0014\tC_0015\tC_0016\tC_0017\tC_0018\tC_0019\tC_0020\tC_0021\tC_0022\tC_0023\tC_0024\tC_0025\tC_0026\tC_0029\tC_0031\tC_0032\tC_0033\tC_0035\tC_0036\tC_0037\tC_0038\tC_0039\tC_0050\tC_0053\tC_0060\tC_0061\tC_0062\tC_0065\tC_0069\tC_0070\tC_0071\tC_0075\tC_0076\tC_0077\tC_0081\tC_0082\tC_0083\tC_0087\tH_0001\tH_0002\tH_0003\tH_0005\tH_0006\tH_0007\tH_0008\tH_0009\tH_0010\tH_0012\tH_0013\tH_0539\tH_0657\tH_0658\tH_0681\tH_0695\tH_0700\tH_0726\tH_0740\tH_0750\t\n",
      "geo_accession\tGSM1580869\tGSM1580870\tGSM1580871\tGSM1580872\tGSM1580873\tGSM1580874\tGSM1580875\tGSM1580876\tGSM1580877\tGSM1580878\tGSM1580879\tGSM1580880\tGSM1580881\tGSM1580882\tGSM1580883\tGSM1580884\tGSM1580885\tGSM1580886\tGSM1580887\tGSM1580888\tGSM1580889\tGSM1580890\tGSM1580891\tGSM1580892\tGSM1580893\tGSM1580894\tGSM1580895\tGSM1580896\tGSM1580897\tGSM1580898\tGSM1580899\tGSM1580900\tGSM1580901\tGSM1580902\tGSM1580903\tGSM1580904\tGSM1580905\tGSM1580906\tGSM1580907\tGSM1580908\tGSM1580909\tGSM1580910\tGSM1580911\tGSM1580912\tGSM1580913\tGSM1580914\tGSM1580915\tGSM1580916\tGSM1580917\tGSM1580918\tGSM1580919\tGSM1580920\tGSM1580921\tGSM1580922\tGSM1580923\tGSM1580924\tGSM1580925\tGSM1580926\tGSM1580927\tGSM1580928\tGSM1580929\tGSM1580930\tGSM1580931\tGSM1580932\tGSM1580933\tGSM1580934\tGSM1580935\tGSM1580936\tGSM1580937\t\n",
      "diagnosis\tNeurologically normal\tNeurologically normal\tNeurologically normal\tNeurologically normal\tNeurologically normal\tNeurologically normal\tNeurologically normal\tNeurologically normal\tNeurologically normal\tNeurologically normal\tNeurologically normal\tNeurologically normal\tNeurologically normal\tNeurologically normal\tNeurologically normal\tNeurologically normal\tNeurologically normal\tNeurologically normal\tNeurologically normal\tNeurologically normal\tNeurologically normal\tNeurologically normal\tNeurologically normal\tNeurologically normal\tNeurologically normal\tNeurologically normal\tNeurologically normal\tNeurologically normal\tNeurologically normal\tNeurologically normal\tNeurologically normal\tNeurologically normal\tNeurologically normal\tNeurologically normal\tNeurologically normal\tNeurologically normal\tNeurologically normal\tNeurologically normal\tNeurologically normal\tNeurologically normal\tNeurologically normal\tNeurologically normal\tNeurologically normal\tNeurologically normal\tNeurologically normal\tNeurologically normal\tNeurologically normal\tNeurologically normal\tNeurologically normal\tHuntington's Disease\tHuntington's Disease\tHuntington's Disease\tHuntington's Disease\tHuntington's Disease\tHuntington's Disease\tHuntington's Disease\tHuntington's Disease\tHuntington's Disease\tHuntington's Disease\tHuntington's Disease\tHuntington's Disease\tHuntington's Disease\tHuntington's Disease\tHuntington's Disease\tHuntington's Disease\tHuntington's Disease\tHuntington's Disease\tHuntington's Disease\tHuntington's Disease\t\n",
      "pmi\t2\t2\t2\t2\t5\t2\t3\t2\t2\t19\t15\t21\t10\t20\t21\t17\t19\t24\t26\t17\t18\t26\t25\t11\t13\t24\t24\t15\t21\t17\t28\t20\t15\t2\t2\t2\t3\t2\t2\t24\t19\t21\t23\t30\t21\t26\t18\t32\t19\t37.25\t5.75\t20.5\t19.15\tNA\t8\t21.3\t3.73\t6.16\t12.75\t25.1\t14.5\t24.3\t11\t19.06\t16.15\t15.66\t14.75\t13.58\t16.16\t\n",
      "age_of_death\t73\t91\t82\t97\t86\t91\t81\t79\t63\t66\t69\t79\t61\t58\t70\t66\t73\t60\t76\t61\t62\t69\t61\t88\t93\t53\t57\t43\t46\t40\t44\t57\t80\t74\t69\t76\t78\t87\t86\t54\t68\t106\t52\t46\t36\t55\t57\t66\t64\t55\t69\t71\t48\t40\t72\t43\t68\t59\t68\t57\t54\t61\t48\t69\t55\t50\t50\t75\t53\t\n",
      "rin\t7.7\t7.9\t8.6\t9.1\t8.6\t8.7\t6\t8.4\t6.5\t7.1\t7.8\t8\t8.2\t8.4\t8.2\t8.5\t7.5\t7.9\t7.3\t7.8\t6.6\t8.7\t8.1\t7.1\t6.4\t7.3\t8.3\t7.5\t7.6\t7.5\t8.3\t7.7\t7.3\t8.5\t8.4\t7.5\t7.6\t8.7\t8.7\t8.3\t6.3\t7.6\t7.4\t8.2\t8.5\t7.6\t7.8\t8.4\t8.7\t7.1\t7.5\t7\t6.9\t6.2\t8.5\t7.4\t7.8\t8.3\t6\t6.1\t6.5\t8.1\t7.8\t7\t7.9\t8\t9.2\t6.4\t6\t\n",
      "id_ref\tGSM1580869\tGSM1580870\tGSM1580871\tGSM1580872\tGSM1580873\tGSM1580874\tGSM1580875\tGSM1580876\tGSM1580877\tGSM1580878\tGSM1580879\tGSM1580880\tGSM1580881\tGSM1580882\tGSM1580883\tGSM1580884\tGSM1580885\tGSM1580886\tGSM1580887\tGSM1580888\tGSM1580889\tGSM1580890\tGSM1580891\tGSM1580892\tGSM1580893\tGSM1580894\tGSM1580895\tGSM1580896\tGSM1580897\tGSM1580898\tGSM1580899\tGSM1580900\tGSM1580901\tGSM1580902\tGSM1580903\tGSM1580904\tGSM1580905\tGSM1580906\tGSM1580907\tGSM1580908\tGSM1580909\tGSM1580910\tGSM1580911\tGSM1580912\tGSM1580913\tGSM1580914\tGSM1580915\tGSM1580916\tGSM1580917\tGSM1580918\tGSM1580919\tGSM1580920\tGSM1580921\tGSM1580922\tGSM1580923\tGSM1580924\tGSM1580925\tGSM1580926\tGSM1580927\tGSM1580928\tGSM1580929\tGSM1580930\tGSM1580931\tGSM1580932\tGSM1580933\tGSM1580934\tGSM1580935\tGSM1580936\tGSM1580937\t\n"
     ]
    }
   ],
   "source": [
    "#put all the processed data together\n",
    "\n",
    "processed_data = \"\"\n",
    "\n",
    "for i in range(len(sample)):\n",
    "    processed_data += sample[i]\n",
    "    processed_data += '\\t'\n",
    "\n",
    "processed_data += '\\n'\n",
    "\n",
    "for i in range(len(geo_acc)):\n",
    "    processed_data += geo_acc[i]\n",
    "    processed_data += '\\t'\n",
    "    \n",
    "processed_data += '\\n'\n",
    "\n",
    "for i in range(len(diagnosis)):\n",
    "    processed_data += diagnosis[i]\n",
    "    processed_data += '\\t'\n",
    "\n",
    "processed_data += '\\n'\n",
    "\n",
    "for i in range(len(pmi)):\n",
    "    processed_data += pmi[i]\n",
    "    processed_data += '\\t'\n",
    "\n",
    "processed_data += '\\n'\n",
    "\n",
    "for i in range(len(aod)):\n",
    "    processed_data += aod[i]\n",
    "    processed_data += '\\t'\n",
    "\n",
    "processed_data += '\\n'\n",
    "\n",
    "for i in range(len(rin)):\n",
    "    processed_data += rin[i]\n",
    "    processed_data += '\\t'\n",
    "    \n",
    "processed_data += '\\n'\n",
    "\n",
    "for i in range(len(id_ref)):\n",
    "    processed_data += id_ref[i]\n",
    "    processed_data += '\\t'\n",
    "    \n",
    "print(processed_data)"
   ]
  },
  {
   "cell_type": "code",
   "execution_count": 88,
   "id": "3fc2a50c",
   "metadata": {},
   "outputs": [],
   "source": [
    "# write the processed stuff to a csv\n",
    "f2 = open('GSE64810_processed_sample_info.txt', 'w')\n",
    "f2.write(processed_data)\n",
    "f2.close()"
   ]
  },
  {
   "cell_type": "code",
   "execution_count": null,
   "id": "d1fc8b35",
   "metadata": {},
   "outputs": [],
   "source": []
  }
 ],
 "metadata": {
  "kernelspec": {
   "display_name": "Python 3 (ipykernel)",
   "language": "python",
   "name": "python3"
  },
  "language_info": {
   "codemirror_mode": {
    "name": "ipython",
    "version": 3
   },
   "file_extension": ".py",
   "mimetype": "text/x-python",
   "name": "python",
   "nbconvert_exporter": "python",
   "pygments_lexer": "ipython3",
   "version": "3.9.7"
  }
 },
 "nbformat": 4,
 "nbformat_minor": 5
}
